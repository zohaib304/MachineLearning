{
  "nbformat": 4,
  "nbformat_minor": 0,
  "metadata": {
    "colab": {
      "name": "Logistic regression day 4",
      "provenance": [],
      "authorship_tag": "ABX9TyMG1qck4VbVHru27uwFeZBo",
      "include_colab_link": true
    },
    "kernelspec": {
      "name": "python3",
      "display_name": "Python 3"
    }
  },
  "cells": [
    {
      "cell_type": "markdown",
      "metadata": {
        "id": "view-in-github",
        "colab_type": "text"
      },
      "source": [
        "<a href=\"https://colab.research.google.com/github/zohaib304/MachineLearning/blob/main/Logistic_regression_day_4.ipynb\" target=\"_parent\"><img src=\"https://colab.research.google.com/assets/colab-badge.svg\" alt=\"Open In Colab\"/></a>"
      ]
    },
    {
      "cell_type": "code",
      "metadata": {
        "id": "xSBQIdCFWEbl"
      },
      "source": [
        "import pandas as pd\r\n",
        "import numpy as np\r\n",
        "\r\n",
        "from sklearn.linear_model import LogisticRegression"
      ],
      "execution_count": null,
      "outputs": []
    },
    {
      "cell_type": "code",
      "metadata": {
        "id": "SRWymksFWR4X"
      },
      "source": [
        "df = pd.read_csv('exam.csv')"
      ],
      "execution_count": null,
      "outputs": []
    },
    {
      "cell_type": "code",
      "metadata": {
        "id": "R1c9kKUqWjZj"
      },
      "source": [
        "hours_studied_scaled = df['hours_studied_scaled']\r\n",
        "passed_exam = df['passed_exam']"
      ],
      "execution_count": null,
      "outputs": []
    },
    {
      "cell_type": "code",
      "metadata": {
        "id": "OEyUIjgMWZuf"
      },
      "source": [
        "model = LogisticRegression()\r\n",
        "model.fit(hours_studied_scaled, passed_exam)"
      ],
      "execution_count": null,
      "outputs": []
    },
    {
      "cell_type": "code",
      "metadata": {
        "id": "g0_TmIWVW1Fs"
      },
      "source": [
        "passed_predictions = model.predict_proba(guessed_hours_scaled)"
      ],
      "execution_count": null,
      "outputs": []
    }
  ]
}